{
 "cells": [
  {
   "cell_type": "code",
   "execution_count": 9,
   "metadata": {},
   "outputs": [],
   "source": [
    "from math import factorial as fact\n",
    "import numpy as np"
   ]
  },
  {
   "cell_type": "code",
   "execution_count": 22,
   "metadata": {},
   "outputs": [
    {
     "name": "stdout",
     "output_type": "stream",
     "text": [
      "Вероятность того, что стрелок попадет в цель ровно 85 раз:  0.048061793700746355 \n",
      "\n"
     ]
    }
   ],
   "source": [
    "\"\"\"1. Вероятность того, что стрелок попадет в мишень, выстрелив один раз, равна 0.8. \n",
    "Стрелок выстрелил 100 раз. Найдите вероятность того, что стрелок попадет в цель ровно 85 раз.\"\"\"\n",
    "\n",
    "def combinations(k, n):\n",
    "    return fact(n) / (fact(k) * fact(n - k))\n",
    "\n",
    "def bernulli(k, n, p):\n",
    "    q = 1 - p\n",
    "    return combinations(k, n) * p**k * q**(n - k)\n",
    "\n",
    "\n",
    "n = 100\n",
    "k = 85\n",
    "p = 0.8\n",
    "\n",
    "print('Вероятность того, что стрелок попадет в цель ровно 85 раз: ', bernulli(k, n, p), '\\n')"
   ]
  },
  {
   "cell_type": "code",
   "execution_count": 21,
   "metadata": {},
   "outputs": [
    {
     "name": "stdout",
     "output_type": "stream",
     "text": [
      "Вероятность того, что ни одна из лампочек не перегорит в первый день:  0.1353352832366127\n",
      "Вероятность того, что ровно две лампочки перегорят в первый день:  0.2706705664732254 \n",
      "\n"
     ]
    }
   ],
   "source": [
    "\"\"\"2. Вероятность того, что лампочка перегорит в течение первого дня эксплуатации, равна 0.0004. \n",
    "В жилом комплексе после ремонта в один день включили 5000 новых лампочек. \n",
    "Какова вероятность, что ни одна из них не перегорит в первый день? \n",
    "Какова вероятность, что перегорят ровно две?\"\"\"\n",
    "\n",
    "def puasson(m, n, p):\n",
    "    lambda_ = n * p\n",
    "    return (lambda_**m / fact(m)) * np.exp(-lambda_)\n",
    "\n",
    "n = 5000\n",
    "p = 0.0004\n",
    "print('Вероятность того, что ни одна из лампочек не перегорит в первый день: ', puasson(0, n, p))\n",
    "print('Вероятность того, что ровно две лампочки перегорят в первый день: ', puasson(2, n, p), '\\n')"
   ]
  },
  {
   "cell_type": "code",
   "execution_count": 23,
   "metadata": {},
   "outputs": [
    {
     "name": "stdout",
     "output_type": "stream",
     "text": [
      "Вероятность того, что орел выпадет ровно 70 раз:  0.06281178035144776 \n",
      "\n"
     ]
    }
   ],
   "source": [
    "\"\"\"3. Монету подбросили 144 раза. Какова вероятность, что орел выпадет ровно 70 раз?\"\"\"\n",
    "\n",
    "def combinations(k, n):\n",
    "    return fact(n) / (fact(k) * fact(n - k))\n",
    "\n",
    "def bernulli(k, n, p):\n",
    "    q = 1 - p\n",
    "    return combinations(k, n) * p**k * q**(n - k)\n",
    "\n",
    "\n",
    "n = 144\n",
    "k = 70\n",
    "p = 0.5\n",
    "print('Вероятность того, что орел выпадет ровно 70 раз: ', bernulli(k, n, p), '\\n')"
   ]
  },
  {
   "cell_type": "code",
   "execution_count": 1,
   "metadata": {},
   "outputs": [
    {
     "name": "stdout",
     "output_type": "stream",
     "text": [
      "Вероятность того, что все мячи белые:  0.3054545454545455\n",
      "Вероятность того, что ровно два мяча белые:  0.20484848484848484\n"
     ]
    }
   ],
   "source": [
    "\"\"\"4. В первом ящике находится 10 мячей, из которых 7 - белые. \n",
    "Во втором ящике - 11 мячей, из которых 9 белых. Из каждого ящика вытаскивают случайным образом по два мяча. \n",
    "Какова вероятность того, что все мячи белые? Какова вероятность того, что ровно два мяча белые?\"\"\"\n",
    "\n",
    "res1 = (7*6*9*8)/(10*9*11*10)\n",
    "res2 = (7/10)*(6/9)*(2/11)*(1/10) + (7/10)*(3/9)*(9/11)*(2/10) + (7/10)*(3/9)*(2/11)*(9/10) + (3/10)*(7/9)*(9/11)*(2/10) + (3/10)*(7/9)*(2/11)*(9/10) + (3/10)*(2/9)*(9/11)*(8/10)\n",
    "\n",
    "print('Вероятность того, что все мячи белые: ', res1)\n",
    "print('Вероятность того, что ровно два мяча белые: ', res2)"
   ]
  },
  {
   "cell_type": "code",
   "execution_count": null,
   "metadata": {},
   "outputs": [],
   "source": []
  }
 ],
 "metadata": {
  "kernelspec": {
   "display_name": "Python 3",
   "language": "python",
   "name": "python3"
  },
  "language_info": {
   "codemirror_mode": {
    "name": "ipython",
    "version": 3
   },
   "file_extension": ".py",
   "mimetype": "text/x-python",
   "name": "python",
   "nbconvert_exporter": "python",
   "pygments_lexer": "ipython3",
   "version": "3.8.5"
  }
 },
 "nbformat": 4,
 "nbformat_minor": 4
}
