{
 "cells": [
  {
   "cell_type": "code",
   "execution_count": null,
   "metadata": {},
   "outputs": [],
   "source": [
    "import pandas as pd\n",
    "import numpy as np\n",
    "from math import factorial as fl\n",
    "import scipy.stats as st"
   ]
  },
  {
   "cell_type": "code",
   "execution_count": null,
   "metadata": {},
   "outputs": [],
   "source": [
    "Случайная непрерывная величина A имеет равномерное распределение на промежутке (200, 800].\n",
    "Найдите ее среднее значение и дисперсию."
   ]
  },
  {
   "cell_type": "code",
   "execution_count": 2,
   "metadata": {},
   "outputs": [
    {
     "name": "stdout",
     "output_type": "stream",
     "text": [
      "Среднее значение:  500.0      Дисперсия:  30000.0\n"
     ]
    }
   ],
   "source": [
    "mean = (200 + 800) / 2\n",
    "d = (800 - 200) ** 2 / 12\n",
    "print('Среднее значение: ', mean, '     Дисперсия: ', d)"
   ]
  },
  {
   "cell_type": "code",
   "execution_count": null,
   "metadata": {},
   "outputs": [],
   "source": [
    "О случайной непрерывной равномерно распределенной величине B известно, что ее дисперсия равна 0.2.\n",
    "Можно ли найти правую границу величины B и ее среднее значение зная, что левая граница равна 0.5?\n",
    "Если да, найдите ее."
   ]
  },
  {
   "cell_type": "code",
   "execution_count": 9,
   "metadata": {},
   "outputs": [
    {
     "name": "stdout",
     "output_type": "stream",
     "text": [
      "Правая граница:  2.049193338482967      Среднее значение:  1.2745966692414834\n"
     ]
    }
   ],
   "source": [
    "import numpy as np \n",
    "\n",
    "b = np.sqrt(12 * 0.2) + 0.5\n",
    "print ('Правая граница: ', b, '     Среднее значение: ', (b + 0.5)/2)"
   ]
  },
  {
   "cell_type": "code",
   "execution_count": null,
   "metadata": {},
   "outputs": [],
   "source": [
    "Непрерывная случайная величина X распределена нормально и задана плотностью распределения\n",
    "f(x) = (1 / (4 * sqrt(2*pi))) * (exp(-((x+2)**2) / 32))\n",
    "Найдите:\n",
    "а). M(X)\n",
    "б). D(X)\n",
    "в). std(X) (среднее квадратичное отклонение)"
   ]
  },
  {
   "cell_type": "code",
   "execution_count": 11,
   "metadata": {},
   "outputs": [
    {
     "name": "stdout",
     "output_type": "stream",
     "text": [
      "M(X) = -2\n",
      "D(X) = 16\n",
      "std(X) = 4\n"
     ]
    }
   ],
   "source": [
    "print('M(X) = -2')\n",
    "print('D(X) = 16')\n",
    "print('std(X) = 4')"
   ]
  },
  {
   "cell_type": "code",
   "execution_count": null,
   "metadata": {},
   "outputs": [],
   "source": [
    "Рост взрослого населения города X имеет нормальное распределение.\n",
    "Причем, средний рост равен 174 см, а среднее квадратичное отклонение равно 8 см.\n",
    "Какова вероятность того, что случайным образом выбранный взрослый человек имеет рост:\n",
    "а). больше 182 см\n",
    "б). больше 190 см\n",
    "в). от 166 см до 190 см\n",
    "г). от 166 см до 182 см\n",
    "д). от 158 см до 190 см\n",
    "е). не выше 150 см или не ниже 190 см\n",
    "ё). не выше 150 см или не ниже 198 см\n",
    "ж). ниже 166 см."
   ]
  },
  {
   "cell_type": "code",
   "execution_count": 15,
   "metadata": {},
   "outputs": [
    {
     "name": "stdout",
     "output_type": "stream",
     "text": [
      "а). больше 182 см:  0.15865525393145707\n",
      "б). больше 190 см:  0.02275013194817921\n",
      "в). от 166 см до 190 см:  0.8185946141203637\n",
      "г). от 166 см до 182 см:  0.6826894921370859\n",
      "д). от 158 см до 190 см:  0.9544997361036416\n",
      "е). не выше 150 см или не ниже 190 см:  0.0241000299798093\n",
      "ё). не выше 150 см или не ниже 198 см:  0.0026997960632601965\n",
      "ж). ниже 166 см:  0.15865525393145707\n"
     ]
    }
   ],
   "source": [
    "import scipy.stats as st\n",
    "\n",
    "hight = st.norm(loc=174, scale=8)\n",
    "\n",
    "print('а). больше 182 см: ', 1 - hight.cdf(182))\n",
    "print('б). больше 190 см: ', 1 - hight.cdf(190))\n",
    "print('в). от 166 см до 190 см: ', hight.cdf(190) - hight.cdf(166))\n",
    "print('г). от 166 см до 182 см: ', hight.cdf(182) - hight.cdf(166))\n",
    "print('д). от 158 см до 190 см: ', hight.cdf(190) - hight.cdf(158))\n",
    "print('е). не выше 150 см или не ниже 190 см: ', hight.cdf(150) + (1 - hight.cdf(190)))\n",
    "print('ё). не выше 150 см или не ниже 198 см: ', hight.cdf(150) + (1 - hight.cdf(198)))\n",
    "print('ж). ниже 166 см: ', hight.cdf(166))"
   ]
  },
  {
   "cell_type": "code",
   "execution_count": null,
   "metadata": {},
   "outputs": [],
   "source": [
    "На сколько сигм (средних квадратичных отклонений) отклоняется рост человека, равный 190 см, от\n",
    "математического ожидания роста в популяции, в которой M(X) = 178 см и D(X) = 25 кв.см?"
   ]
  },
  {
   "cell_type": "code",
   "execution_count": 16,
   "metadata": {},
   "outputs": [
    {
     "name": "stdout",
     "output_type": "stream",
     "text": [
      "2.4\n"
     ]
    }
   ],
   "source": [
    "print((190 - 178) / np.sqrt(25))"
   ]
  },
  {
   "cell_type": "code",
   "execution_count": null,
   "metadata": {},
   "outputs": [],
   "source": []
  }
 ],
 "metadata": {
  "kernelspec": {
   "display_name": "Python 3",
   "language": "python",
   "name": "python3"
  },
  "language_info": {
   "codemirror_mode": {
    "name": "ipython",
    "version": 3
   },
   "file_extension": ".py",
   "mimetype": "text/x-python",
   "name": "python",
   "nbconvert_exporter": "python",
   "pygments_lexer": "ipython3",
   "version": "3.8.5"
  }
 },
 "nbformat": 4,
 "nbformat_minor": 4
}
