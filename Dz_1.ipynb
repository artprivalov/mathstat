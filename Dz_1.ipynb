{
 "cells": [
  {
   "cell_type": "code",
   "execution_count": null,
   "metadata": {},
   "outputs": [],
   "source": [
    "Из колоды в 52 карты извлекаются случайным образом 4 карты. \n",
    "Найти вероятность того, что все карты – крести. \n",
    "Найти вероятность, что среди этих карт окажется хотя бы один туз."
   ]
  },
  {
   "cell_type": "code",
   "execution_count": 1,
   "metadata": {},
   "outputs": [],
   "source": [
    "from math import factorial"
   ]
  },
  {
   "cell_type": "code",
   "execution_count": 2,
   "metadata": {},
   "outputs": [
    {
     "name": "stdout",
     "output_type": "stream",
     "text": [
      "Вероятность того, что все карты - крести =  0.0026410564225690276\n"
     ]
    }
   ],
   "source": [
    "n = factorial(52) / (factorial(4)*factorial(48))\n",
    "m = factorial(13) / (factorial(4)*factorial(9))\n",
    "print(f'Вероятность того, что все карты - крести = ', m/n)"
   ]
  },
  {
   "cell_type": "code",
   "execution_count": 3,
   "metadata": {},
   "outputs": [
    {
     "name": "stdout",
     "output_type": "stream",
     "text": [
      "Вероятность того, что из 4 вытащенных из колоды хотя бы один туз =  0.2812632745405855\n"
     ]
    }
   ],
   "source": [
    "p1 = (factorial(4) / (factorial(1)*factorial(3))) * (factorial(48) / (factorial(3)*factorial(45))) / n\n",
    "p2 = (factorial(4) / (factorial(2)*factorial(2))) * (factorial(48) / (factorial(2)*factorial(46))) / n\n",
    "p3 = (factorial(4) / (factorial(3)*factorial(1))) * (factorial(48) / (factorial(1)*factorial(47))) / n\n",
    "p4 = factorial(4) / (factorial(4)*factorial(0)) / n\n",
    "p = p1 + p2 + p3 + p4\n",
    "print(f'Вероятность того, что из 4 вытащенных из колоды хотя бы один туз = ', p)"
   ]
  },
  {
   "cell_type": "code",
   "execution_count": null,
   "metadata": {},
   "outputs": [],
   "source": [
    "На входной двери подъезда установлен кодовый замок, содержащий десять кнопок с цифрами от 0 до 9. \n",
    "Код содержит три цифры, которые нужно нажать одновременно. \n",
    "Какова вероятность того, что человек, не знающий код, откроет дверь с первой попытки?"
   ]
  },
  {
   "cell_type": "code",
   "execution_count": 4,
   "metadata": {},
   "outputs": [
    {
     "name": "stdout",
     "output_type": "stream",
     "text": [
      "Вероятность того, что дверь будет открыта с первой попытки =  0.001388888888888889\n"
     ]
    }
   ],
   "source": [
    "p = 1 / (factorial(10) / factorial(7))\n",
    "print(f'Вероятность того, что дверь будет открыта с первой попытки = ', p)"
   ]
  },
  {
   "cell_type": "code",
   "execution_count": null,
   "metadata": {},
   "outputs": [],
   "source": [
    "В ящике имеется 15 деталей, из которых 9 окрашены. \n",
    "Рабочий случайным образом извлекает 3 детали. \n",
    "Какова вероятность того, что все извлеченные детали окрашены?"
   ]
  },
  {
   "cell_type": "code",
   "execution_count": 6,
   "metadata": {},
   "outputs": [
    {
     "name": "stdout",
     "output_type": "stream",
     "text": [
      "Вероятность того, что все извлеченные детали окрашены =  0.18461538461538463\n"
     ]
    }
   ],
   "source": [
    "p = (factorial(9) / (factorial(3)*factorial(6))) / (factorial(15) / (factorial(3)*factorial(12)))\n",
    "print(f'Вероятность того, что все извлеченные детали окрашены = ', p)"
   ]
  },
  {
   "cell_type": "code",
   "execution_count": null,
   "metadata": {},
   "outputs": [],
   "source": [
    "В лотерее 100 билетов. Из них 2 выигрышных. \n",
    "Какова вероятность того, что 2 приобретенных билета окажутся выигрышными?"
   ]
  },
  {
   "cell_type": "code",
   "execution_count": 7,
   "metadata": {},
   "outputs": [
    {
     "name": "stdout",
     "output_type": "stream",
     "text": [
      "Вероятность того, что оба билета выигрышные =  0.00020202020202020202\n"
     ]
    }
   ],
   "source": [
    "p = (factorial(2) / (factorial(2)*factorial(0))) / (factorial(100) / (factorial(2)*factorial(98)))\n",
    "print(f'Вероятность того, что оба билета выигрышные = ', p)"
   ]
  },
  {
   "cell_type": "code",
   "execution_count": null,
   "metadata": {},
   "outputs": [],
   "source": []
  }
 ],
 "metadata": {
  "kernelspec": {
   "display_name": "Python 3",
   "language": "python",
   "name": "python3"
  },
  "language_info": {
   "codemirror_mode": {
    "name": "ipython",
    "version": 3
   },
   "file_extension": ".py",
   "mimetype": "text/x-python",
   "name": "python",
   "nbconvert_exporter": "python",
   "pygments_lexer": "ipython3",
   "version": "3.8.5"
  }
 },
 "nbformat": 4,
 "nbformat_minor": 4
}
